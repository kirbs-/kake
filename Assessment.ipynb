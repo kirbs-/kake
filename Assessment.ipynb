{
 "cells": [
  {
   "cell_type": "markdown",
   "id": "4def5722-4846-4823-b5da-f85f96fb48e3",
   "metadata": {},
   "source": [
    "## Dataset\n",
    "data-assesment.txt is a fictional dataset which recorded new products from Google shopping. \n",
    "\n",
    "## Task 1\n",
    "Your business partners are interested in:\n",
    "1. how many new products are in the market.\n",
    "2. Are there up and coming product categories we may need to train repair technicians on.\n",
    "\n",
    "Using a notebook, analyze the dataset and prepare 3-4 findings to present to your business partner. \n",
    "\n",
    "## Task 2\n",
    "The business team wants to expand your analysis to products on Shopify. However, the Shopify dataset is missing a product category. Your task is to:\n",
    "1. using Python, create a classification model that predicts the column 'product_category' \n",
    "2. prepare a summary notebook with your analysis/findings\n",
    "3. create a list of questions we can ask the business in order to improve\n",
    "\n",
    "## Tips:\n",
    "- Assume audience includes both technical people (who understand statistics and data science) as well as business members. \n",
    "- What questions can you ask your business partner to improve the analysis or model?\n",
    "- What are the strengths and weaknesses of your analysis.\n",
    "- Did you find any additional relationships in the data you can share?\n",
    "- Show your thought process and what analysis/model you wanted to peform.\n",
    "\n",
    "## Guidelines\n",
    "- You may modify this enviromnment as you want. \n",
    "- Core python 3.7 packages are installed; plus pandas.\n",
    "- You may use any package. To install use `%pip` cell magic. e.g. `%pip install pandas` will install pandas in this environment.\n",
    "- Please complete this asssessment within 24-48 hours. There's no deadline. \n",
    "- There are a lot of ways to analyze this dataset. Don't try to find everything. "
   ]
  },
  {
   "cell_type": "code",
   "execution_count": 1,
   "id": "d86f57a2-f475-4ce6-b4ee-138e4d1c3d3c",
   "metadata": {},
   "outputs": [
    {
     "name": "stdout",
     "output_type": "stream",
     "text": [
      "Requirement already satisfied: pandas in /Users/ck/.pyenv/versions/3.8.12/envs/ipython/lib/python3.8/site-packages (1.2.5)\n",
      "Requirement already satisfied: pytz>=2017.3 in /Users/ck/.pyenv/versions/3.8.12/envs/ipython/lib/python3.8/site-packages (from pandas) (2021.1)\n",
      "Requirement already satisfied: numpy>=1.16.5 in /Users/ck/.pyenv/versions/3.8.12/envs/ipython/lib/python3.8/site-packages (from pandas) (1.20.2)\n",
      "Requirement already satisfied: python-dateutil>=2.7.3 in /Users/ck/.pyenv/versions/3.8.12/envs/ipython/lib/python3.8/site-packages (from pandas) (2.8.1)\n",
      "Requirement already satisfied: six>=1.5 in /Users/ck/.pyenv/versions/3.8.12/envs/ipython/lib/python3.8/site-packages (from python-dateutil>=2.7.3->pandas) (1.16.0)\n",
      "\u001b[33mWARNING: You are using pip version 21.1.1; however, version 21.2.4 is available.\n",
      "You should consider upgrading via the '/Users/ck/.pyenv/versions/3.8.12/envs/ipython/bin/python3.8 -m pip install --upgrade pip' command.\u001b[0m\n",
      "Note: you may need to restart the kernel to use updated packages.\n"
     ]
    }
   ],
   "source": [
    "%pip install pandas"
   ]
  },
  {
   "cell_type": "code",
   "execution_count": 3,
   "id": "210d033c-7e8c-4c9a-9706-915979ae5c38",
   "metadata": {},
   "outputs": [
    {
     "name": "stderr",
     "output_type": "stream",
     "text": [
      "/Users/ck/.pyenv/versions/3.8.12/envs/ipython/lib/python3.8/site-packages/pandas/compat/__init__.py:109: UserWarning: Could not import the lzma module. Your installed Python is incomplete. Attempting to use lzma compression will result in a RuntimeError.\n",
      "  warnings.warn(msg)\n"
     ]
    }
   ],
   "source": [
    "import pandas as pd"
   ]
  },
  {
   "cell_type": "code",
   "execution_count": 4,
   "id": "5319fb9f-baaa-49d5-8a75-736a5adf33f5",
   "metadata": {},
   "outputs": [
    {
     "data": {
      "text/plain": [
       "(306431, 9)"
      ]
     },
     "execution_count": 4,
     "metadata": {},
     "output_type": "execute_result"
    }
   ],
   "source": [
    "df = pd.read_csv('data-assessment.txt', sep='|')\n",
    "df.shape"
   ]
  },
  {
   "cell_type": "code",
   "execution_count": null,
   "id": "583cba36-7a33-46f1-8f47-51a247ca2ed4",
   "metadata": {},
   "outputs": [],
   "source": []
  }
 ],
 "metadata": {
  "kernelspec": {
   "display_name": "Python 3 (ipykernel)",
   "language": "python",
   "name": "python3"
  },
  "language_info": {
   "codemirror_mode": {
    "name": "ipython",
    "version": 3
   },
   "file_extension": ".py",
   "mimetype": "text/x-python",
   "name": "python",
   "nbconvert_exporter": "python",
   "pygments_lexer": "ipython3",
   "version": "3.8.12"
  }
 },
 "nbformat": 4,
 "nbformat_minor": 5
}
